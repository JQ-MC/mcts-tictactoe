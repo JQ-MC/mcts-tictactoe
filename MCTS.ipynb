{
  "cells": [
    {
      "cell_type": "markdown",
      "metadata": {
        "id": "5uQn4vz-pt90"
      },
      "source": [
        "# Game playing systems. Implementation\n",
        "\n",
        "It is recommended to run the script in Google Collab, since in the last part of the script inputs are implemented to play with the algorithm and they are not very well handled in Visual Code Studio, for example.\n"
      ]
    },
    {
      "cell_type": "code",
      "execution_count": null,
      "metadata": {
        "id": "JTJG6LQFWNwz"
      },
      "outputs": [],
      "source": [
        "#libraries\n",
        "import numpy as np\n",
        "from copy import deepcopy\n",
        "import random\n",
        "import time"
      ]
    },
    {
      "cell_type": "markdown",
      "metadata": {},
      "source": [
        "## Auxiliar functions"
      ]
    },
    {
      "cell_type": "code",
      "execution_count": null,
      "metadata": {},
      "outputs": [],
      "source": [
        "def check_result(layout):\n",
        "    \"\"\"\n",
        "    This function checks the state/result of the game given a layout defined as a np array.\n",
        "    it returns:\n",
        "        - 0 if it is a draw\n",
        "        - 1 if it is a win \n",
        "        - -1 if it is a lose\n",
        "    \"\"\"\n",
        "    dim = layout.shape[0]\n",
        "    check = layout.sum(0) #rows\n",
        "    check = np.append(check, layout.sum(1)) #cols\n",
        "    check = np.append(check, sum(layout.diagonal())) # left-right diagonal\n",
        "    check = np.append(check, sum(np.fliplr(layout).diagonal())) #right-left diagonal\n",
        "\n",
        "    result = 0\n",
        "    if dim in check: #Win\n",
        "        result = 1\n",
        "    elif -dim in check: #lose\n",
        "        result = -1\n",
        "    else:\n",
        "        pass\n",
        "\n",
        "    return result\n",
        "    "
      ]
    },
    {
      "cell_type": "markdown",
      "metadata": {
        "id": "h3HvgN5ko1f8"
      },
      "source": [
        "## Node and tree logic\n",
        "Below you can find the logic behind the nodes of the tree"
      ]
    },
    {
      "cell_type": "code",
      "execution_count": null,
      "metadata": {
        "id": "H7NDTqbhWNw8"
      },
      "outputs": [],
      "source": [
        "class Node:\n",
        "\n",
        "    def __init__(self,parent, layout, player):\n",
        "\n",
        "        # Storing the parent of the node for back propagating\n",
        "        self.parent = parent\n",
        "\n",
        "        # information of the layout and the player\n",
        "        self.layout = layout\n",
        "        self.player = player\n",
        "\n",
        "        # Statistics of the node\n",
        "        self.stats = Node_stats()\n",
        "        \n",
        "        # to control whether it has been visited\n",
        "        self.visited = False\n",
        "\n",
        "        #stores the result of the layout. 0 draw, 1 win, -1 lose\n",
        "        self.result = check_result(self.layout)\n",
        "\n",
        "        # if the layout still has 0 (to fill positions) or the result is different than a draw\n",
        "        self.is_terminal =  not np.any(layout==0) or self.result !=0\n",
        "\n",
        "        # Stores the children of the node, when created. If it is the root node\n",
        "        # (does not have parents), create children\n",
        "        self.children = []\n",
        "        if self.parent == []:\n",
        "          self.create_children()\n",
        "\n",
        "    def create_children(self):\n",
        "        \"\"\"\n",
        "        This function creates the children of a given node.\n",
        "        \"\"\"\n",
        "\n",
        "        # If the node is not terminal and it does not have created children already\n",
        "        if not self.is_terminal and self.children ==[]:\n",
        "\n",
        "          #getting all coordinates that still have a 0 (haven't been played)\n",
        "          coord = np.where((layout == 0))\n",
        "\n",
        "          #for all coordinates that still have a 0 (haven't been played)\n",
        "          for x, y in zip(coord[0], coord[1]):\n",
        "\n",
        "              # Getting coordinates to fill children nodes with a possible play\n",
        "              aux_layout = deepcopy(self.layout)\n",
        "              aux_layout[x,y] = - self.player\n",
        "\n",
        "              #Creating the node\n",
        "              node = Node(self, aux_layout, - self.player)\n",
        "\n",
        "              # appending to the children list\n",
        "              self.children.append(node)\n",
        "        \n",
        "        return \n",
        "\n",
        "    def is_fully_expanded(self):\n",
        "        \"\"\"\n",
        "        Checks if children nodes are visited.\n",
        "        \"\"\"\n",
        "\n",
        "        fully_expanded = True if not self.is_terminal else False\n",
        "        for child in self.children:\n",
        "            fully_expanded = fully_expanded and child.visited\n",
        "\n",
        "        return fully_expanded\n",
        "\n",
        "    def UCT(self, N_parent, c= 0.2):\n",
        "        \"\"\"\n",
        "        Calculates uct of the node, given the N of the parent node\n",
        "        \"\"\"\n",
        "        return self.stats.Q/self.stats.N + c*np.sqrt(np.log(N_parent)/self.stats.N)\n",
        "\n",
        "    def best_UCT_children(self):\n",
        "        \"\"\"\n",
        "        Retrieves the children with the highest UCT\n",
        "        \"\"\"\n",
        "        stats = []\n",
        "        for child in self.children:\n",
        "            stats.append(child.UCT(N_parent = self.stats.N))\n",
        "\n",
        "        #retrieving the index of the children with the highest UCT    \n",
        "        index_max = stats.index(max(stats))\n",
        "\n",
        "        return self.children[index_max]\n",
        "\n",
        "    def choose_unvisited_node(self):\n",
        "        \"\"\"\n",
        "        Method to choose unvisited nodes when selecting in MCTS\n",
        "        \"\"\"\n",
        "\n",
        "        candidates = []\n",
        "        for child in self.children:\n",
        "            if not child.visited:\n",
        "                candidates.append(child)\n",
        "\n",
        "        return random.choice(candidates)\n",
        "\n",
        "    def choose_random_node(self):\n",
        "        \"\"\"\n",
        "        Choose a random children node. Used in the rollout_policy\n",
        "        \"\"\"\n",
        "\n",
        "        return random.choice(self.children)\n",
        "\n",
        "    def favorite_child(self):\n",
        "        \"\"\"\n",
        "        chooses the children with the highest number of visits\n",
        "        \"\"\"\n",
        "\n",
        "        n_visitis = []\n",
        "        for child in self.children:\n",
        "            n_visitis.append(child.stats.N)\n",
        "\n",
        "        #retrieving the index of the children with the highest UCT    \n",
        "        index_max = n_visitis.index(max(n_visitis))\n",
        "\n",
        "        return self.children[index_max]\n",
        "\n",
        "\n",
        "\n",
        "class Node_stats:\n",
        "\n",
        "    def __init__(self):\n",
        "        self.N = 1\n",
        "        self.Q = 0\n",
        "\n",
        "\n"
      ]
    },
    {
      "cell_type": "markdown",
      "metadata": {
        "id": "DNArN0Yloray"
      },
      "source": [
        "## MonteCarlo Tree Search\n",
        "The functions that implement the MonteCarlo Tree Search are defined below"
      ]
    },
    {
      "cell_type": "code",
      "execution_count": null,
      "metadata": {
        "id": "PXvKugG3WNxN"
      },
      "outputs": [],
      "source": [
        "def selection(node):\n",
        "    \"\"\"\n",
        "    Selection policy based on UCT\n",
        "    \"\"\"\n",
        "    while node.is_fully_expanded():\n",
        "        node = node.best_UCT_children()\n",
        "\n",
        "    if not node.is_terminal:\n",
        "        node = node.choose_unvisited_node()\n",
        "\n",
        "    return node\n",
        "\n",
        "def rollout(node):\n",
        "    \"\"\"\n",
        "    Executes the simulation of the MCTS. Its policy is defined in roll_out_policy\n",
        "    \"\"\"\n",
        "    # We set the node to visited and we create its children\n",
        "    node.visited = True\n",
        "    node.create_children()\n",
        "\n",
        "    # Till a terminal state is found, keep going\n",
        "    while not node.is_terminal:\n",
        "        node = roll_out_policy(node)\n",
        "        node.create_children()\n",
        "\n",
        "    return node.result\n",
        "\n",
        "def roll_out_policy(node):\n",
        "    \"\"\"\n",
        "    Implements the logic of the simulation. In our case it is a random policy\n",
        "    \"\"\"\n",
        "\n",
        "    return node.choose_random_node()\n",
        "\n",
        "def backpropagate(node, result):\n",
        "    \"\"\"\n",
        "    Implements the logic behind the learning and propagation of simulations\n",
        "    \"\"\"\n",
        "    while node.parent != []:\n",
        "\n",
        "        node.stats.N +=1\n",
        "        node.stats.Q += result \n",
        "\n",
        "        node = node.parent\n",
        "\n",
        "\n",
        "def MonteCarlo_TreeSearch(node, max_time = 5):\n",
        "    \"\"\"\n",
        "    Implements the MCTS.\n",
        "    It returns a selected node based on the number of visits that that node has.\n",
        "    (favorite_child)\n",
        "    \"\"\"\n",
        "    #track the amount of searches that it performs\n",
        "    search_counter = 0\n",
        "\n",
        "    time_beginning = time.time()\n",
        "    while (time.time() - time_beginning < max_time):\n",
        "      selected_node = selection(node)\n",
        "      result = rollout(selected_node)\n",
        "      backpropagate(selected_node, result)\n",
        "\n",
        "      search_counter +=1\n",
        "    \n",
        "    print(\"The MCTS has performed \", search_counter, \" searches in \", time.time() - time_beginning, \" seconds.\")\n",
        "    return node.favorite_child()\n",
        "    "
      ]
    },
    {
      "cell_type": "markdown",
      "metadata": {
        "id": "lrLCzJ0WnNgS"
      },
      "source": [
        "## Examples\n",
        "* How does the algorithm start?"
      ]
    },
    {
      "cell_type": "code",
      "execution_count": null,
      "metadata": {
        "colab": {
          "base_uri": "https://localhost:8080/"
        },
        "id": "HacrX7_hWNxQ",
        "outputId": "2ebf9bb9-2310-42e3-f398-17560d23f693"
      },
      "outputs": [
        {
          "data": {
            "text/plain": [
              "array([[0., 0., 0.],\n",
              "       [0., 0., 0.],\n",
              "       [0., 0., 0.]])"
            ]
          },
          "execution_count": 63,
          "metadata": {},
          "output_type": "execute_result"
        }
      ],
      "source": [
        "# Configuration\n",
        "layout = np.zeros((3,3))\n",
        "player = 1\n",
        "parent = []\n",
        "\n",
        "starting_node = Node(parent=[], player=-1, layout=layout)\n",
        "starting_node.layout"
      ]
    },
    {
      "cell_type": "code",
      "execution_count": null,
      "metadata": {
        "colab": {
          "base_uri": "https://localhost:8080/"
        },
        "id": "sh7H5dxTWNxS",
        "outputId": "de9e9362-b20b-4ee5-c3a9-c82c3db02aca"
      },
      "outputs": [
        {
          "name": "stdout",
          "output_type": "stream",
          "text": [
            "The MCTS has performed  22314  searches in  5.000095844268799  seconds.\n"
          ]
        }
      ],
      "source": [
        "# Performing search\n",
        "selected_node = MonteCarlo_TreeSearch(starting_node)"
      ]
    },
    {
      "cell_type": "code",
      "execution_count": null,
      "metadata": {
        "colab": {
          "base_uri": "https://localhost:8080/"
        },
        "id": "MM48ZskjcdIL",
        "outputId": "33f2f6d5-bc95-4964-df2f-7a4ce7d209ef"
      },
      "outputs": [
        {
          "data": {
            "text/plain": [
              "array([[1., 0., 0.],\n",
              "       [0., 0., 0.],\n",
              "       [0., 0., 0.]])"
            ]
          },
          "execution_count": 65,
          "metadata": {},
          "output_type": "execute_result"
        }
      ],
      "source": [
        "# Decision making\n",
        "selected_node.layout"
      ]
    },
    {
      "cell_type": "markdown",
      "metadata": {
        "id": "CEIuxn5pnh4N"
      },
      "source": [
        "* Does the algorithm know how to finish?"
      ]
    },
    {
      "cell_type": "code",
      "execution_count": null,
      "metadata": {
        "id": "36jlL1-oWzQw"
      },
      "outputs": [],
      "source": [
        "# Configuration\n",
        "layout = np.zeros((3,3))\n",
        "layout[0,0] = 1\n",
        "layout[1,1] = 1\n",
        "layout[0,2] = -1\n",
        "layout[1,2] = -1\n",
        "\n",
        "player = 1\n",
        "parent = []\n",
        "\n",
        "starting_node = Node(parent=[], player=-1, layout=layout)"
      ]
    },
    {
      "cell_type": "code",
      "execution_count": null,
      "metadata": {
        "colab": {
          "base_uri": "https://localhost:8080/"
        },
        "id": "yLJwCQK7XRmH",
        "outputId": "ab7aaca5-675a-4312-fae1-91f8adeb4e19"
      },
      "outputs": [
        {
          "data": {
            "text/plain": [
              "array([[ 1.,  0., -1.],\n",
              "       [ 0.,  1., -1.],\n",
              "       [ 0.,  0.,  0.]])"
            ]
          },
          "execution_count": 67,
          "metadata": {},
          "output_type": "execute_result"
        }
      ],
      "source": [
        "# State of the board\n",
        "starting_node.layout"
      ]
    },
    {
      "cell_type": "code",
      "execution_count": null,
      "metadata": {
        "colab": {
          "base_uri": "https://localhost:8080/"
        },
        "id": "ae-SWiDjXDI_",
        "outputId": "70229122-1f22-4326-b0ee-1802e42f917a"
      },
      "outputs": [
        {
          "name": "stdout",
          "output_type": "stream",
          "text": [
            "The MCTS has performed  224896  searches in  5.000008821487427  seconds.\n"
          ]
        },
        {
          "data": {
            "text/plain": [
              "array([[ 1.,  0., -1.],\n",
              "       [ 0.,  1., -1.],\n",
              "       [ 0.,  0.,  1.]])"
            ]
          },
          "execution_count": 68,
          "metadata": {},
          "output_type": "execute_result"
        }
      ],
      "source": [
        "# Decision after the search\n",
        "selected_node = MonteCarlo_TreeSearch(starting_node)\n",
        "selected_node.layout"
      ]
    },
    {
      "cell_type": "markdown",
      "metadata": {
        "id": "o_ukkgmwdVga"
      },
      "source": [
        "## Programming TIC-TAC-TOE to play against a random oponent\n"
      ]
    },
    {
      "cell_type": "code",
      "execution_count": null,
      "metadata": {
        "id": "RYrhC49sd4FG"
      },
      "outputs": [],
      "source": [
        "def play_random(layout, player):\n",
        "  \"\"\"\n",
        "  Defines a player that plays random\n",
        "  \"\"\"\n",
        "  node = Node(parent=[], player=player, layout=layout)\n",
        "  node = node.choose_random_node()\n",
        "  return node.layout\n",
        "  "
      ]
    },
    {
      "cell_type": "markdown",
      "metadata": {
        "id": "VHf_JQfO2EMq"
      },
      "source": [
        "Here we try it with a 4x4 board\n"
      ]
    },
    {
      "cell_type": "code",
      "execution_count": null,
      "metadata": {
        "colab": {
          "base_uri": "https://localhost:8080/"
        },
        "id": "4SC63hkLc43C",
        "outputId": "abd3d1e0-75cf-4d97-c5a1-28eb8da59bd4"
      },
      "outputs": [
        {
          "name": "stdout",
          "output_type": "stream",
          "text": [
            "Player:  -1\n",
            "[[ 0.  0.  0. -1.]\n",
            " [ 0.  0.  0.  0.]\n",
            " [ 0.  0.  0.  0.]\n",
            " [ 0.  0.  0.  0.]]\n",
            "\n",
            "The MCTS has performed  217  searches in  5.009582042694092  seconds.\n",
            "Player:  1\n",
            "[[ 0.  0.  1. -1.]\n",
            " [ 0.  0.  0.  0.]\n",
            " [ 0.  0.  0.  0.]\n",
            " [ 0.  0.  0.  0.]]\n",
            "\n",
            "Player:  -1\n",
            "[[ 0.  0.  1. -1.]\n",
            " [ 0. -1.  0.  0.]\n",
            " [ 0.  0.  0.  0.]\n",
            " [ 0.  0.  0.  0.]]\n",
            "\n",
            "The MCTS has performed  296  searches in  5.009297609329224  seconds.\n",
            "Player:  1\n",
            "[[ 0.  0.  1. -1.]\n",
            " [ 0. -1.  1.  0.]\n",
            " [ 0.  0.  0.  0.]\n",
            " [ 0.  0.  0.  0.]]\n",
            "\n",
            "Player:  -1\n",
            "[[ 0.  0.  1. -1.]\n",
            " [ 0. -1.  1.  0.]\n",
            " [ 0. -1.  0.  0.]\n",
            " [ 0.  0.  0.  0.]]\n",
            "\n",
            "The MCTS has performed  32007  searches in  5.000099182128906  seconds.\n",
            "Player:  1\n",
            "[[ 0.  0.  1. -1.]\n",
            " [ 0. -1.  1.  0.]\n",
            " [ 0. -1.  0.  0.]\n",
            " [ 0.  0.  1.  0.]]\n",
            "\n",
            "Player:  -1\n",
            "[[ 0. -1.  1. -1.]\n",
            " [ 0. -1.  1.  0.]\n",
            " [ 0. -1.  0.  0.]\n",
            " [ 0.  0.  1.  0.]]\n",
            "\n",
            "The MCTS has performed  135051  searches in  5.000012159347534  seconds.\n",
            "Player:  1\n",
            "[[ 0. -1.  1. -1.]\n",
            " [ 0. -1.  1.  0.]\n",
            " [ 0. -1.  1.  0.]\n",
            " [ 0.  0.  1.  0.]]\n",
            "\n",
            "The machine wins\n"
          ]
        }
      ],
      "source": [
        "player = -1 #1 if the MCTS starts -1 if opponent starts\n",
        "layout = np.zeros((4,4))\n",
        "node = Node\n",
        "\n",
        "while check_result(layout) == 0 and np.any(layout==0):\n",
        "  if player == 1:\n",
        "    starting_node = Node(parent=[], player=-player, layout=layout)\n",
        "    selected_node = MonteCarlo_TreeSearch(starting_node)\n",
        "    layout = selected_node.layout\n",
        "\n",
        "  else:\n",
        "    layout = play_random(layout, -player)\n",
        "\n",
        "\n",
        "  print(\"Player: \", player)\n",
        "  print(layout)\n",
        "  print()\n",
        "\n",
        "  player = -player\n",
        "\n",
        "\n",
        "result = check_result(layout)\n",
        "\n",
        "if result == 1:\n",
        "  print(\"The machine wins\")\n",
        "\n",
        "elif result == -1:\n",
        "  print(\"The random player wins!\")\n",
        "\n",
        "else:\n",
        "  print(\"It is a draw!\")"
      ]
    },
    {
      "cell_type": "markdown",
      "metadata": {
        "id": "sGYMsa2nisrQ"
      },
      "source": [
        "## Programming TIC-TAC-TOE to play against a human\n"
      ]
    },
    {
      "cell_type": "code",
      "execution_count": null,
      "metadata": {
        "id": "XAETCrbFi1NW"
      },
      "outputs": [],
      "source": [
        "def input_human_decision(layout, player):\n",
        "  \"\"\"\n",
        "  Function that handles the human input\n",
        "  \"\"\"\n",
        "\n",
        "  print(\"Your turn! Choose the row and the column of your movement\")\n",
        "  row = int(input(\"Choose row [0,1,2]: \"))\n",
        "  column = int(input(\"Choose column [0,1,2]: \"))\n",
        "\n",
        "  if layout[row, column] != 0:\n",
        "    print(\"That position is already covered. Choose another one.\")\n",
        "    layout = input_human_decision(layout, player)\n",
        "\n",
        "  else: \n",
        "    layout[row, column] = player\n",
        "\n",
        "  return layout\n"
      ]
    },
    {
      "cell_type": "code",
      "execution_count": null,
      "metadata": {
        "colab": {
          "base_uri": "https://localhost:8080/"
        },
        "id": "kyAhrjYsiqEK",
        "outputId": "e042dffa-c8c3-4e27-c12b-3cba80e2d45e"
      },
      "outputs": [
        {
          "name": "stdout",
          "output_type": "stream",
          "text": [
            "Game starts! You are player -1\n",
            "[[0. 0. 0.]\n",
            " [0. 0. 0.]\n",
            " [0. 0. 0.]]\n",
            "The MCTS has performed  20060  searches in  5.0000996589660645  seconds.\n",
            "Player:  1\n",
            "[[0. 0. 1.]\n",
            " [0. 0. 0.]\n",
            " [0. 0. 0.]]\n",
            "\n",
            "Your turn! Choose the row and the column of your movement\n",
            "Choose row [0,1,2]: 1\n",
            "Choose column [0,1,2]: 1\n",
            "Player:  -1\n",
            "[[ 0.  0.  1.]\n",
            " [ 0. -1.  0.]\n",
            " [ 0.  0.  0.]]\n",
            "\n",
            "The MCTS has performed  57220  searches in  5.0000319480896  seconds.\n",
            "Player:  1\n",
            "[[ 0.  1.  1.]\n",
            " [ 0. -1.  0.]\n",
            " [ 0.  0.  0.]]\n",
            "\n",
            "Your turn! Choose the row and the column of your movement\n",
            "Choose row [0,1,2]: 0\n",
            "Choose column [0,1,2]: 0\n",
            "Player:  -1\n",
            "[[-1.  1.  1.]\n",
            " [ 0. -1.  0.]\n",
            " [ 0.  0.  0.]]\n",
            "\n",
            "The MCTS has performed  78184  searches in  5.000036239624023  seconds.\n",
            "Player:  1\n",
            "[[-1.  1.  1.]\n",
            " [ 0. -1.  1.]\n",
            " [ 0.  0.  0.]]\n",
            "\n",
            "Your turn! Choose the row and the column of your movement\n",
            "Choose row [0,1,2]: 2\n",
            "Choose column [0,1,2]: 2\n",
            "Player:  -1\n",
            "[[-1.  1.  1.]\n",
            " [ 0. -1.  1.]\n",
            " [ 0.  0. -1.]]\n",
            "\n",
            "YOU win!\n"
          ]
        }
      ],
      "source": [
        "player = 1 #1 if the MCTS starts -1 if opponent starts\n",
        "layout = np.zeros((3,3))\n",
        "node = Node\n",
        "\n",
        "print(\"Game starts! You are player -1\")\n",
        "print(layout)\n",
        "\n",
        "while check_result(layout) == 0 and np.any(layout==0):\n",
        "  if player == 1:\n",
        "    starting_node = Node(parent=[], player=-player, layout=layout)\n",
        "    selected_node = MonteCarlo_TreeSearch(starting_node)\n",
        "    layout = selected_node.layout\n",
        "\n",
        "  else:\n",
        "    layout = input_human_decision(layout, player)\n",
        "\n",
        "\n",
        "  print(\"Player: \", player)\n",
        "  print(layout)\n",
        "  print()\n",
        "\n",
        "  player = -player\n",
        "\n",
        "result = check_result(layout)\n",
        "\n",
        "if result == 1:\n",
        "  print(\"The machine wins\")\n",
        "\n",
        "elif result == -1:\n",
        "  print(\"YOU win!\")\n",
        "\n",
        "else:\n",
        "  print(\"It is a draw!\")"
      ]
    }
  ],
  "metadata": {
    "colab": {
      "collapsed_sections": [],
      "name": "MCTS.ipynb",
      "provenance": []
    },
    "interpreter": {
      "hash": "81d571fb6155e9824af6ce79a9385db6d1fad418e547fb1d894ef617504fe823"
    },
    "kernelspec": {
      "display_name": "Python 3.8.12 ('venv')",
      "language": "python",
      "name": "python3"
    },
    "language_info": {
      "codemirror_mode": {
        "name": "ipython",
        "version": 3
      },
      "file_extension": ".py",
      "mimetype": "text/x-python",
      "name": "python",
      "nbconvert_exporter": "python",
      "pygments_lexer": "ipython3",
      "version": "3.8.12"
    },
    "orig_nbformat": 4
  },
  "nbformat": 4,
  "nbformat_minor": 0
}
